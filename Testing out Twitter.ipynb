{
 "cells": [
  {
   "cell_type": "code",
   "execution_count": 3,
   "id": "conservative-antigua",
   "metadata": {},
   "outputs": [],
   "source": [
    "import json\n",
    "import tweepy as tw\n",
    "import pandas as pd"
   ]
  },
  {
   "cell_type": "code",
   "execution_count": 93,
   "id": "permanent-treat",
   "metadata": {},
   "outputs": [],
   "source": [
    "from requests_oauthlib import OAuth1Session"
   ]
  },
  {
   "cell_type": "code",
   "execution_count": 4,
   "id": "subjective-telescope",
   "metadata": {},
   "outputs": [],
   "source": [
    "consumer_key = \"vOSChBHOlb8HAZ8bmpAi5J12t\"\n",
    "consumer_secret = \"kijt8pA43nYeIjutE6rcX5isn2rLRqyPFYNZQCudmApX8ljHet\"\n",
    "\n",
    "access_token = \"727703646331240448-rYMsXqhUpkFFs5OYYvaMdCuxXEjJL8n\"\n",
    "access_secret = \"cPzTkVoXZejnGY6LNFyq7iA0n5zHC1JivIL1jpSRLfgHR\""
   ]
  },
  {
   "cell_type": "code",
   "execution_count": 95,
   "id": "requested-slovak",
   "metadata": {},
   "outputs": [],
   "source": [
    "oauth = OAuth1Session(\n",
    "    consumer_key,\n",
    "    client_secret=consumer_secret,\n",
    "    resource_owner_key=access_token,\n",
    "    resource_owner_secret=access_secret,\n",
    ")"
   ]
  },
  {
   "cell_type": "code",
   "execution_count": null,
   "id": "floral-intranet",
   "metadata": {},
   "outputs": [],
   "source": [
    "params = {\"place.fields=\"}"
   ]
  },
  {
   "cell_type": "code",
   "execution_count": null,
   "id": "unlike-technology",
   "metadata": {},
   "outputs": [],
   "source": [
    "response = oauth.get(\n",
    "    \"https://api.twitter.com/2/users/by\", params=params\n",
    ")"
   ]
  },
  {
   "cell_type": "code",
   "execution_count": 7,
   "id": "protecting-conference",
   "metadata": {},
   "outputs": [],
   "source": [
    "auth = tw.OAuthHandler(consumer_key, consumer_secret)\n",
    "auth.set_access_token(access_token, access_secret)\n",
    "api = tw.API(auth, wait_on_rate_limit=True)"
   ]
  },
  {
   "cell_type": "code",
   "execution_count": 82,
   "id": "alone-plane",
   "metadata": {},
   "outputs": [
    {
     "data": {
      "text/plain": [
       "[Place(_api=<tweepy.api.API object at 0x7fb45110add0>, id='53df18e21825a89c', name='National Capital Region', full_name='National Capital Region, Republic of the Philippines', country='Republic of the Philippines', country_code='PH', url='https://api.twitter.com/1.1/geo/id/53df18e21825a89c.json', place_type='admin', attributes={}, bounding_box=BoundingBox(_api=<tweepy.api.API object at 0x7fb45110add0>, type='Polygon', coordinates=[[[120.8986521, 14.3477314], [120.8986521, 14.7873208], [121.1357656, 14.7873208], [121.1357656, 14.3477314], [120.8986521, 14.3477314]]]), centroid=[121.03885236752194, 14.5675261], contained_within=[Place(_api=<tweepy.api.API object at 0x7fb45110add0>, id='fb151ef38fa2ac0d', name='Republic of the Philippines', full_name='Republic of the Philippines', country='Republic of the Philippines', country_code='PH', url='https://api.twitter.com/1.1/geo/id/fb151ef38fa2ac0d.json', place_type='country', attributes={}, bounding_box=BoundingBox(_api=<tweepy.api.API object at 0x7fb45110add0>, type='Polygon', coordinates=[[[116.8748754, 4.4073918], [116.8748754, 21.1879257], [126.7814024, 21.1879257], [126.7814024, 4.4073918], [116.8748754, 4.4073918]]]), centroid=[123.3234119683899, 12.051336899999999])]),\n",
       " Place(_api=<tweepy.api.API object at 0x7fb45110add0>, id='3b98b02fba3f9753', name='North Carolina', full_name='North Carolina, USA', country='United States', country_code='US', url='https://api.twitter.com/1.1/geo/id/3b98b02fba3f9753.json', place_type='admin', attributes={}, bounding_box=BoundingBox(_api=<tweepy.api.API object at 0x7fb45110add0>, type='Polygon', coordinates=[[[-84.3219475, 33.752879], [-84.3219475, 36.588118], [-75.40012, 36.588118], [-75.40012, 33.752879], [-84.3219475, 33.752879]]]), centroid=[-78.57673379465703, 35.1704985], contained_within=[Place(_api=<tweepy.api.API object at 0x7fb45110add0>, id='96683cc9126741d1', name='United States', full_name='United States', country='United States', country_code='US', url='https://api.twitter.com/1.1/geo/id/96683cc9126741d1.json', place_type='country', attributes={}, bounding_box=BoundingBox(_api=<tweepy.api.API object at 0x7fb45110add0>, type='Polygon', coordinates=[[[-179.231086, 13.182335], [-179.231086, 71.434357], [179.859685, 71.434357], [179.859685, 13.182335], [-179.231086, 13.182335]]]), centroid=[-98.99308143101959, 36.890333500000004])]),\n",
       " Place(_api=<tweepy.api.API object at 0x7fb45110add0>, id='bced47a0c99c71d0', name='Durham', full_name='Durham, NC', country='United States', country_code='US', url='https://api.twitter.com/1.1/geo/id/bced47a0c99c71d0.json', place_type='city', attributes={}, bounding_box=BoundingBox(_api=<tweepy.api.API object at 0x7fb45110add0>, type='Polygon', coordinates=[[[-79.0075886, 35.866334], [-79.0075886, 36.115631], [-78.783292, 36.115631], [-78.783292, 35.866334], [-79.0075886, 35.866334]]]), centroid=[-78.88031925235688, 35.9909825], contained_within=[Place(_api=<tweepy.api.API object at 0x7fb45110add0>, id='7e0fd30728e70e94', name='RALEIGH-DURHAM (FAYETVLLE)', full_name='RALEIGH-DURHAM (FAYETVLLE)', country='', country_code='', url='https://api.twitter.com/1.1/geo/id/7e0fd30728e70e94.json', place_type='admin', attributes={}, bounding_box=BoundingBox(_api=<tweepy.api.API object at 0x7fb45110add0>, type='Polygon', coordinates=[[[-79.769355, 34.553824], [-79.769355, 36.891221], [-77.0661, 36.891221], [-77.0661, 34.553824], [-79.769355, 34.553824]]]), centroid=[-78.56650551409676, 35.7225225])]),\n",
       " Place(_api=<tweepy.api.API object at 0x7fb45110add0>, id='00ead31815b6e5c1', name='Durham', full_name='Durham, NH', country='United States', country_code='US', url='https://api.twitter.com/1.1/geo/id/00ead31815b6e5c1.json', place_type='city', attributes={}, bounding_box=BoundingBox(_api=<tweepy.api.API object at 0x7fb45110add0>, type='Polygon', coordinates=[[[-70.967789, 43.110605], [-70.967789, 43.162719], [-70.889686, 43.162719], [-70.889686, 43.110605], [-70.967789, 43.110605]]]), centroid=[-70.93930525901203, 43.136662], contained_within=[Place(_api=<tweepy.api.API object at 0x7fb45110add0>, id='988257060feb2e4b', name='BOSTON (MANCHESTER)', full_name='BOSTON (MANCHESTER)', country='', country_code='', url='https://api.twitter.com/1.1/geo/id/988257060feb2e4b.json', place_type='admin', attributes={}, bounding_box=BoundingBox(_api=<tweepy.api.API object at 0x7fb45110add0>, type='Polygon', coordinates=[[[-73.007434, 41.238757], [-73.007434, 43.764988], [-69.926874, 43.764988], [-69.926874, 41.238757], [-73.007434, 41.238757]]]), centroid=[-71.5330374944502, 42.694367])]),\n",
       " Place(_api=<tweepy.api.API object at 0x7fb45110add0>, id='6e28ad9ce8dbcadb', name='Durham', full_name='Durham, England', country='United Kingdom', country_code='GB', url='https://api.twitter.com/1.1/geo/id/6e28ad9ce8dbcadb.json', place_type='city', attributes={}, bounding_box=BoundingBox(_api=<tweepy.api.API object at 0x7fb45110add0>, type='Polygon', coordinates=[[[-1.602258, 54.7541494], [-1.602258, 54.817471], [-1.514851, 54.817471], [-1.514851, 54.7541494], [-1.602258, 54.7541494]]]), centroid=[-1.5247820216044972, 54.78972975], contained_within=[Place(_api=<tweepy.api.API object at 0x7fb45110add0>, id='67bc7263f7b9047b', name='North East', full_name='North East, England', country='United Kingdom', country_code='GB', url='https://api.twitter.com/1.1/geo/id/67bc7263f7b9047b.json', place_type='admin', attributes={}, bounding_box=BoundingBox(_api=<tweepy.api.API object at 0x7fb45110add0>, type='Polygon', coordinates=[[[-2.6896487528799, 54.4511368492598], [-2.6896487528799, 55.8116995493485], [-0.789589998657534, 55.8116995493485], [-0.789589998657534, 54.4511368492598], [-2.6896487528799, 54.4511368492598]]]), centroid=[-2.078123258269485, 55.13141819930415])]),\n",
       " Place(_api=<tweepy.api.API object at 0x7fb45110add0>, id='9e7e0d44245467aa', name='Durham', full_name='Durham, Ontario', country='Canada', country_code='CA', url='https://api.twitter.com/1.1/geo/id/9e7e0d44245467aa.json', place_type='admin', attributes={}, bounding_box=BoundingBox(_api=<tweepy.api.API object at 0x7fb45110add0>, type='Polygon', coordinates=[[[-79.328008, 43.554887], [-79.328008, 44.516729], [-78.400923, 44.516729], [-78.400923, 43.554887], [-79.328008, 43.554887]]]), centroid=[-78.86868870784824, 44.035808], contained_within=[Place(_api=<tweepy.api.API object at 0x7fb45110add0>, id='89b2eb8b2b9847f7', name='Ontario', full_name='Ontario, Canada', country='Canada', country_code='CA', url='https://api.twitter.com/1.1/geo/id/89b2eb8b2b9847f7.json', place_type='admin', attributes={}, bounding_box=BoundingBox(_api=<tweepy.api.API object at 0x7fb45110add0>, type='Polygon', coordinates=[[[-95.155898, 41.676329], [-95.155898, 56.852398], [-74.339383, 56.852398], [-74.339383, 41.676329], [-95.155898, 41.676329]]]), centroid=[-87.16643248114515, 49.2643635])]),\n",
       " Place(_api=<tweepy.api.API object at 0x7fb45110add0>, id='fda0767e4dc75f0b', name='Thaba Nchu', full_name='Thaba Nchu, South Africa', country='South Africa', country_code='ZA', url='https://api.twitter.com/1.1/geo/id/fda0767e4dc75f0b.json', place_type='city', attributes={}, bounding_box=BoundingBox(_api=<tweepy.api.API object at 0x7fb45110add0>, type='Polygon', coordinates=[[[26.6482139, -29.2416459], [26.6482139, -29.108573], [26.9383776, -29.108573], [26.9383776, -29.2416459], [26.6482139, -29.2416459]]]), centroid=[26.795325503841227, -29.17510945], contained_within=[Place(_api=<tweepy.api.API object at 0x7fb45110add0>, id='d3fb88b5ce5a1ce4', name='Free State', full_name='Free State', country='South Africa', country_code='ZA', url='https://api.twitter.com/1.1/geo/id/d3fb88b5ce5a1ce4.json', place_type='admin', attributes={}, bounding_box=BoundingBox(_api=<tweepy.api.API object at 0x7fb45110add0>, type='Polygon', coordinates=[[[24.3465668, -30.6943259], [24.3465668, -26.6686012], [29.7851279, -26.6686012], [29.7851279, -30.6943259], [24.3465668, -30.6943259]]]), centroid=[26.627429951784617, -28.68146355])]),\n",
       " Place(_api=<tweepy.api.API object at 0x7fb45110add0>, id='00b39dfa04895764', name='Durham', full_name='Durham, CT', country='United States', country_code='US', url='https://api.twitter.com/1.1/geo/id/00b39dfa04895764.json', place_type='city', attributes={}, bounding_box=BoundingBox(_api=<tweepy.api.API object at 0x7fb45110add0>, type='Polygon', coordinates=[[[-72.737852, 41.424679], [-72.737852, 41.497684], [-72.652213, 41.497684], [-72.652213, 41.424679], [-72.737852, 41.424679]]]), centroid=[-72.66956192994945, 41.461181499999995], contained_within=[Place(_api=<tweepy.api.API object at 0x7fb45110add0>, id='b6c2e04f1673337f', name='NEW YORK', full_name='NEW YORK', country='', country_code='', url='https://api.twitter.com/1.1/geo/id/b6c2e04f1673337f.json', place_type='admin', attributes={}, bounding_box=BoundingBox(_api=<tweepy.api.API object at 0x7fb45110add0>, type='Polygon', coordinates=[[[-75.358407, 39.50181], [-75.358407, 42.177043], [-71.85615, 42.177043], [-71.85615, 39.50181], [-75.358407, 39.50181]]]), centroid=[-74.51426031557503, 40.842381])]),\n",
       " Place(_api=<tweepy.api.API object at 0x7fb45110add0>, id='00ce705957a3c6d5', name='Nchira', full_name='Nchira, Ghana', country='Ghana', country_code='GH', url='https://api.twitter.com/1.1/geo/id/00ce705957a3c6d5.json', place_type='city', attributes={}, bounding_box=BoundingBox(_api=<tweepy.api.API object at 0x7fb45110add0>, type='Polygon', coordinates=[[[-1.9933327, 7.8908551], [-1.9933327, 7.899932], [-1.9810452, 7.899932], [-1.9810452, 7.8908551], [-1.9933327, 7.8908551]]]), centroid=[-1.9870747581626849, 7.89539355], contained_within=[Place(_api=<tweepy.api.API object at 0x7fb45110add0>, id='006a72837c6cceb0', name='Brong-Ahafo', full_name='Brong-Ahafo, Ghana', country='Ghana', country_code='GH', url='https://api.twitter.com/1.1/geo/id/006a72837c6cceb0.json', place_type='admin', attributes={}, bounding_box=BoundingBox(_api=<tweepy.api.API object at 0x7fb45110add0>, type='Polygon', coordinates=[[[-3.1201718, 6.3500393], [-3.1201718, 8.7872581], [0.2303306, 8.7872581], [0.2303306, 6.3500393], [-3.1201718, 6.3500393]]]), centroid=[-2.1698991672261405, 7.568648700000001])]),\n",
       " Place(_api=<tweepy.api.API object at 0x7fb45110add0>, id='697ed17151b27fed', name='Kirkpatrick Durham', full_name='Kirkpatrick Durham, Scotland', country='United Kingdom', country_code='GB', url='https://api.twitter.com/1.1/geo/id/697ed17151b27fed.json', place_type='city', attributes={}, bounding_box=BoundingBox(_api=<tweepy.api.API object at 0x7fb45110add0>, type='Polygon', coordinates=[[[-3.907917, 54.9967216], [-3.907917, 55.0170269], [-3.8869444, 55.0170269], [-3.8869444, 54.9967216], [-3.907917, 54.9967216]]]), centroid=[-3.9028568330706292, 55.006874249999996], contained_within=[Place(_api=<tweepy.api.API object at 0x7fb45110add0>, id='0af014accd6f6e99', name='Scotland', full_name='Scotland, United Kingdom', country='United Kingdom', country_code='GB', url='https://api.twitter.com/1.1/geo/id/0af014accd6f6e99.json', place_type='admin', attributes={}, bounding_box=BoundingBox(_api=<tweepy.api.API object at 0x7fb45110add0>, type='Polygon', coordinates=[[[-7.66085699743185, 54.6336309570711], [-7.66085699743185, 60.8452769694519], [-0.740025000483186, 60.8452769694519], [-0.740025000483186, 54.6336309570711], [-7.66085699743185, 54.6336309570711]]]), centroid=[-3.9115477196392874, 56.652969464269404])]),\n",
       " Place(_api=<tweepy.api.API object at 0x7fb45110add0>, id='391041a855ff2a1b', name='Durham-Sud', full_name='Durham-Sud, Québec', country='Canada', country_code='CA', url='https://api.twitter.com/1.1/geo/id/391041a855ff2a1b.json', place_type='city', attributes={}, bounding_box=BoundingBox(_api=<tweepy.api.API object at 0x7fb45110add0>, type='Polygon', coordinates=[[[-72.419485, 45.589051], [-72.419485, 45.703192], [-72.236566, 45.703192], [-72.236566, 45.589051], [-72.419485, 45.589051]]]), centroid=[-72.31776674779512, 45.6461215], contained_within=[Place(_api=<tweepy.api.API object at 0x7fb45110add0>, id='a1ee558e5095678c', name='Drummond', full_name='Drummond, Québec', country='Canada', country_code='CA', url='https://api.twitter.com/1.1/geo/id/a1ee558e5095678c.json', place_type='admin', attributes={}, bounding_box=BoundingBox(_api=<tweepy.api.API object at 0x7fb45110add0>, type='Polygon', coordinates=[[[-72.854186, 45.589051], [-72.854186, 46.097608], [-72.093315, 46.097608], [-72.093315, 45.589051], [-72.854186, 45.589051]]]), centroid=[-72.48046156673377, 45.843329499999996])]),\n",
       " Place(_api=<tweepy.api.API object at 0x7fb45110add0>, id='f1b6ba032bfd631b', name='Durham', full_name='Durham, OR', country='United States', country_code='US', url='https://api.twitter.com/1.1/geo/id/f1b6ba032bfd631b.json', place_type='city', attributes={}, bounding_box=BoundingBox(_api=<tweepy.api.API object at 0x7fb45110add0>, type='Polygon', coordinates=[[[-122.764498, 45.385641], [-122.764498, 45.402758], [-122.750862, 45.402758], [-122.750862, 45.385641], [-122.764498, 45.385641]]]), centroid=[-122.75927046117064, 45.3941995], contained_within=[Place(_api=<tweepy.api.API object at 0x7fb45110add0>, id='b6b8d75a320f81d9', name='PORTLAND, OR', full_name='PORTLAND, OR', country='', country_code='', url='https://api.twitter.com/1.1/geo/id/b6b8d75a320f81d9.json', place_type='admin', attributes={}, bounding_box=BoundingBox(_api=<tweepy.api.API object at 0x7fb45110add0>, type='Polygon', coordinates=[[[-124.115878, 41.991795], [-124.115878, 46.388881], [-116.78371, 46.388881], [-116.78371, 41.991795], [-124.115878, 41.991795]]]), centroid=[-119.66553866932279, 44.190338])]),\n",
       " Place(_api=<tweepy.api.API object at 0x7fb45110add0>, id='335325831c5169fa', name='Durham', full_name='Durham, New Brunswick', country='Canada', country_code='CA', url='https://api.twitter.com/1.1/geo/id/335325831c5169fa.json', place_type='city', attributes={}, bounding_box=BoundingBox(_api=<tweepy.api.API object at 0x7fb45110add0>, type='Polygon', coordinates=[[[-66.16403, 47.563844], [-66.16403, 48.039955], [-65.739568, 48.039955], [-65.739568, 47.563844], [-66.16403, 47.563844]]]), centroid=[-66.01509963928905, 47.801899500000005], contained_within=[Place(_api=<tweepy.api.API object at 0x7fb45110add0>, id='005e38f37291414e', name='Bathurst', full_name='Bathurst', country='Canada', country_code='CA', url='https://api.twitter.com/1.1/geo/id/005e38f37291414e.json', place_type='admin', attributes={}, bounding_box=BoundingBox(_api=<tweepy.api.API object at 0x7fb45110add0>, type='Polygon', coordinates=[[[-66.217093, 47.232518], [-66.217093, 47.927744], [-65.370412, 47.927744], [-65.370412, 47.232518], [-66.217093, 47.232518]]]), centroid=[-65.7507770501037, 47.580130999999994])]),\n",
       " Place(_api=<tweepy.api.API object at 0x7fb45110add0>, id='0197bc8902468f6f', name='Nchia Eleme', full_name='Nchia Eleme, Nigeria', country='Nigeria', country_code='NG', url='https://api.twitter.com/1.1/geo/id/0197bc8902468f6f.json', place_type='city', attributes={}, bounding_box=BoundingBox(_api=<tweepy.api.API object at 0x7fb45110add0>, type='Polygon', coordinates=[[[7.1076967, 4.7640342], [7.1076967, 4.807577], [7.1389128, 4.807577], [7.1389128, 4.7640342], [7.1076967, 4.7640342]]]), centroid=[7.126462442022169, 4.7858056], contained_within=[Place(_api=<tweepy.api.API object at 0x7fb45110add0>, id='01ca6d740243aa31', name='Rivers', full_name='Rivers, Nigeria', country='Nigeria', country_code='NG', url='https://api.twitter.com/1.1/geo/id/01ca6d740243aa31.json', place_type='admin', attributes={}, bounding_box=BoundingBox(_api=<tweepy.api.API object at 0x7fb45110add0>, type='Polygon', coordinates=[[[6.351687, 4.3176116], [6.351687, 5.7275834], [7.5957889, 5.7275834], [7.5957889, 4.3176116], [6.351687, 4.3176116]]]), centroid=[6.831386678710638, 5.0225975])]),\n",
       " Place(_api=<tweepy.api.API object at 0x7fb45110add0>, id='7aa28a231b1b85de', name='Durham', full_name='Durham, CA', country='United States', country_code='US', url='https://api.twitter.com/1.1/geo/id/7aa28a231b1b85de.json', place_type='city', attributes={}, bounding_box=BoundingBox(_api=<tweepy.api.API object at 0x7fb45110add0>, type='Polygon', coordinates=[[[-121.81379, 39.633717], [-121.81379, 39.714262], [-121.790137, 39.714262], [-121.790137, 39.633717], [-121.81379, 39.633717]]]), centroid=[-121.80653884589171, 39.6498395], contained_within=[Place(_api=<tweepy.api.API object at 0x7fb45110add0>, id='feb9995cfa6ced88', name='CHICO-REDDING', full_name='CHICO-REDDING', country='', country_code='', url='https://api.twitter.com/1.1/geo/id/feb9995cfa6ced88.json', place_type='admin', attributes={}, bounding_box=BoundingBox(_api=<tweepy.api.API object at 0x7fb45110add0>, type='Polygon', coordinates=[[[-123.623781, 39.294739], [-123.623781, 41.997611], [-119.998287, 41.997611], [-119.998287, 39.294739], [-123.623781, 39.294739]]]), centroid=[-122.43316508567469, 40.646175])]),\n",
       " Place(_api=<tweepy.api.API object at 0x7fb45110add0>, id='3048b1e206523038', name='Ncalukeni', full_name='Ncalukeni, South Africa', country='South Africa', country_code='ZA', url='https://api.twitter.com/1.1/geo/id/3048b1e206523038.json', place_type='city', attributes={}, bounding_box=BoundingBox(_api=<tweepy.api.API object at 0x7fb45110add0>, type='Polygon', coordinates=[[[28.0478534, -32.7224574], [28.0478534, -32.7107865], [28.0668346, -32.7107865], [28.0668346, -32.7224574], [28.0478534, -32.7224574]]]), centroid=[28.059255973492355, -32.716621950000004], contained_within=[Place(_api=<tweepy.api.API object at 0x7fb45110add0>, id='2e584faebb216d70', name='Eastern Cape', full_name='Eastern Cape', country='South Africa', country_code='ZA', url='https://api.twitter.com/1.1/geo/id/2e584faebb216d70.json', place_type='admin', attributes={}, bounding_box=BoundingBox(_api=<tweepy.api.API object at 0x7fb45110add0>, type='Polygon', coordinates=[[[22.7357419, -34.213638], [22.7357419, -30.0019207], [30.1942199, -30.0019207], [30.1942199, -34.213638], [22.7357419, -34.213638]]]), centroid=[26.590669965917435, -32.10777935])])]"
      ]
     },
     "execution_count": 82,
     "metadata": {},
     "output_type": "execute_result"
    }
   ],
   "source": [
    "api.geo_search(query=\"Durham, NC\", granularity=\"city\")\n",
    "nc_place_id = \"3b98b02fba3f9753\""
   ]
  },
  {
   "cell_type": "code",
   "execution_count": 87,
   "id": "radical-shelf",
   "metadata": {},
   "outputs": [],
   "source": [
    "NC_users_page_1 = api.search(q=\"place:3b98b02fba3f9753\")"
   ]
  },
  {
   "cell_type": "code",
   "execution_count": 90,
   "id": "purple-hypothesis",
   "metadata": {},
   "outputs": [],
   "source": [
    "user_1 = NC_users_page_1[0]._json"
   ]
  },
  {
   "cell_type": "code",
   "execution_count": 91,
   "id": "sustained-society",
   "metadata": {},
   "outputs": [
    {
     "name": "stdout",
     "output_type": "stream",
     "text": [
      "{'created_at': 'Tue Feb 09 19:31:36 +0000 2021', 'id': 1359223441824636935, 'id_str': '1359223441824636935', 'text': 'Just now I thought: how embarrassing this must be for Republican Senators to be faced with the facts\\n\\nAnd then I re… https://t.co/uXa3P39mxA', 'truncated': True, 'entities': {'hashtags': [], 'symbols': [], 'user_mentions': [], 'urls': [{'url': 'https://t.co/uXa3P39mxA', 'expanded_url': 'https://twitter.com/i/web/status/1359223441824636935', 'display_url': 'twitter.com/i/web/status/1…', 'indices': [117, 140]}]}, 'metadata': {'iso_language_code': 'en', 'result_type': 'recent'}, 'source': '<a href=\"http://twitter.com/download/iphone\" rel=\"nofollow\">Twitter for iPhone</a>', 'in_reply_to_status_id': None, 'in_reply_to_status_id_str': None, 'in_reply_to_user_id': None, 'in_reply_to_user_id_str': None, 'in_reply_to_screen_name': None, 'user': {'id': 511429383, 'id_str': '511429383', 'name': 'Ashley B', 'screen_name': 'Abn_RN', 'location': 'North Carolina', 'description': 'She/her. BSN, RN. Former Trauma ICU. Mentally ill. Wife. Dog mom. Fuck Donald Trump & the GOP. #BlackLivesMatter #MeToo 🏳️\\u200d⚧️🏳️\\u200d🌈 RT’d by THE Monica Lewinsky', 'url': None, 'entities': {'description': {'urls': []}}, 'protected': False, 'followers_count': 238, 'friends_count': 281, 'listed_count': 1, 'created_at': 'Fri Mar 02 05:40:34 +0000 2012', 'favourites_count': 3910, 'utc_offset': None, 'time_zone': None, 'geo_enabled': True, 'verified': False, 'statuses_count': 2226, 'lang': None, 'contributors_enabled': False, 'is_translator': False, 'is_translation_enabled': False, 'profile_background_color': 'C0DEED', 'profile_background_image_url': 'http://abs.twimg.com/images/themes/theme1/bg.png', 'profile_background_image_url_https': 'https://abs.twimg.com/images/themes/theme1/bg.png', 'profile_background_tile': False, 'profile_image_url': 'http://pbs.twimg.com/profile_images/1359201791347462151/ccUchNq1_normal.jpg', 'profile_image_url_https': 'https://pbs.twimg.com/profile_images/1359201791347462151/ccUchNq1_normal.jpg', 'profile_banner_url': 'https://pbs.twimg.com/profile_banners/511429383/1591197940', 'profile_link_color': '1DA1F2', 'profile_sidebar_border_color': 'C0DEED', 'profile_sidebar_fill_color': 'DDEEF6', 'profile_text_color': '333333', 'profile_use_background_image': True, 'has_extended_profile': False, 'default_profile': True, 'default_profile_image': False, 'following': False, 'follow_request_sent': False, 'notifications': False, 'translator_type': 'none'}, 'geo': None, 'coordinates': None, 'place': {'id': '512a8a4a4c4b4be0', 'url': 'https://api.twitter.com/1.1/geo/id/512a8a4a4c4b4be0.json', 'place_type': 'city', 'name': 'Charlotte', 'full_name': 'Charlotte, NC', 'country_code': 'US', 'country': 'United States', 'contained_within': [], 'bounding_box': {'type': 'Polygon', 'coordinates': [[[-81.046876, 35.001706], [-80.646695, 35.001706], [-80.646695, 35.416412], [-81.046876, 35.416412]]]}, 'attributes': {}}, 'contributors': None, 'is_quote_status': False, 'retweet_count': 0, 'favorite_count': 0, 'favorited': False, 'retweeted': False, 'lang': 'en'}\n"
     ]
    }
   ],
   "source": [
    "print(user_1)"
   ]
  },
  {
   "cell_type": "code",
   "execution_count": 88,
   "id": "comparative-cornwall",
   "metadata": {},
   "outputs": [
    {
     "ename": "KeyError",
     "evalue": "'location'",
     "output_type": "error",
     "traceback": [
      "\u001b[0;31m---------------------------------------------------------------------------\u001b[0m",
      "\u001b[0;31mKeyError\u001b[0m                                  Traceback (most recent call last)",
      "\u001b[0;32m<ipython-input-88-688795be4f9c>\u001b[0m in \u001b[0;36m<module>\u001b[0;34m\u001b[0m\n\u001b[1;32m      1\u001b[0m \u001b[0;32mfor\u001b[0m \u001b[0mi\u001b[0m \u001b[0;32min\u001b[0m \u001b[0mNC_users_page_1\u001b[0m\u001b[0;34m:\u001b[0m\u001b[0;34m\u001b[0m\u001b[0;34m\u001b[0m\u001b[0m\n\u001b[0;32m----> 2\u001b[0;31m     \u001b[0mprint\u001b[0m\u001b[0;34m(\u001b[0m\u001b[0mi\u001b[0m\u001b[0;34m.\u001b[0m\u001b[0m_json\u001b[0m\u001b[0;34m[\u001b[0m\u001b[0;34m\"location\"\u001b[0m\u001b[0;34m]\u001b[0m\u001b[0;34m)\u001b[0m\u001b[0;34m\u001b[0m\u001b[0;34m\u001b[0m\u001b[0m\n\u001b[0m",
      "\u001b[0;31mKeyError\u001b[0m: 'location'"
     ]
    }
   ],
   "source": [
    "for i in NC_users_page_1:\n",
    "    print(i._json)"
   ]
  }
 ],
 "metadata": {
  "kernelspec": {
   "display_name": "Python 3",
   "language": "python",
   "name": "python3"
  },
  "language_info": {
   "codemirror_mode": {
    "name": "ipython",
    "version": 3
   },
   "file_extension": ".py",
   "mimetype": "text/x-python",
   "name": "python",
   "nbconvert_exporter": "python",
   "pygments_lexer": "ipython3",
   "version": "3.7.4"
  }
 },
 "nbformat": 4,
 "nbformat_minor": 5
}
